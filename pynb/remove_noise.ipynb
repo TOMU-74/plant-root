{
 "cells": [
  {
   "cell_type": "code",
   "execution_count": 1,
   "metadata": {},
   "outputs": [],
   "source": [
    "import cv2\n",
    "import os\n",
    "import re\n",
    "import numpy as np"
   ]
  },
  {
   "cell_type": "code",
   "execution_count": 2,
   "metadata": {},
   "outputs": [],
   "source": [
    "def find_largest_contour(contours):\n",
    "    \"\"\"入力contourのlistから最大長のcontourを返す\"\"\"\n",
    "    max_idx = -1\n",
    "    max_area = 0\n",
    "    for i, cnt in enumerate(contours):\n",
    "        if cv2.contourArea(cnt) > max_area:\n",
    "            max_idx = i\n",
    "            max_area = cv2.contourArea(cnt)\n",
    "    cnt = contours[max_idx]\n",
    "    return cnt\n",
    "\n",
    "def remove_noise(img, largest_cnt):\n",
    "    \"\"\"最大長のcontourでマスクし，ノイズを除去したimgを返す\"\"\"\n",
    "    blk = np.zeros(img.shape, np.uint8)\n",
    "    mask = cv2.drawContours(blk, [largest_cnt], 0, (255, 255, 255), -1)\n",
    "    noise_removed_img = cv2.bitwise_and(img, mask)\n",
    "    return noise_removed_img"
   ]
  },
  {
   "cell_type": "markdown",
   "metadata": {},
   "source": [
    "### 入出力先の指定\n",
    "* 入力: segmentation画像\n",
    "* 出力: ノイズ除去されたsegmentation画像"
   ]
  },
  {
   "cell_type": "code",
   "execution_count": 3,
   "metadata": {},
   "outputs": [
    {
     "data": {
      "text/plain": [
       "['138-P-1_211122.png',\n",
       " '138-P-1_211124.png',\n",
       " '138-P-1_211126.png',\n",
       " '138-P-1_211127.png',\n",
       " '138-P-1_211129.png']"
      ]
     },
     "execution_count": 3,
     "metadata": {},
     "output_type": "execute_result"
    }
   ],
   "source": [
    "SEG = './seg'\n",
    "DST = './noise_removed'\n",
    "fnames = sorted(os.listdir(SEG))\n",
    "fnames[:5]"
   ]
  },
  {
   "cell_type": "markdown",
   "metadata": {},
   "source": [
    "### ノイズの除去の実行"
   ]
  },
  {
   "cell_type": "code",
   "execution_count": 4,
   "metadata": {},
   "outputs": [],
   "source": [
    "for fname in fnames:\n",
    "    \"\"\"contoursを取得\"\"\"\n",
    "    img = cv2.imread(os.path.join(SEG, fname))\n",
    "    gray = cv2.cvtColor(img,cv2.COLOR_BGR2GRAY)\n",
    "    ret,thresh = cv2.threshold(gray,1,255,0)\n",
    "    contours, hierarchy = cv2.findContours(thresh,cv2.RETR_TREE,cv2.CHAIN_APPROX_NONE)\n",
    "    \"\"\"contoursを元にノイズを除去\"\"\"\n",
    "    largest_cnt = find_largest_contour(contours)\n",
    "    noise_removed_img = remove_noise(img, largest_cnt)\n",
    "    cv2.imwrite(os.path.join(DST, fname), noise_removed_img)"
   ]
  }
 ],
 "metadata": {
  "kernelspec": {
   "display_name": "Python 3 (ipykernel)",
   "language": "python",
   "name": "python3"
  },
  "language_info": {
   "codemirror_mode": {
    "name": "ipython",
    "version": 3
   },
   "file_extension": ".py",
   "mimetype": "text/x-python",
   "name": "python",
   "nbconvert_exporter": "python",
   "pygments_lexer": "ipython3",
   "version": "3.9.15"
  }
 },
 "nbformat": 4,
 "nbformat_minor": 4
}
