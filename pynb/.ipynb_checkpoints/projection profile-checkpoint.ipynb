{
 "cells": [
  {
   "cell_type": "code",
   "execution_count": 4,
   "metadata": {},
   "outputs": [],
   "source": [
    "import cv2\n",
    "import os\n",
    "import numpy as np "
   ]
  },
  {
   "cell_type": "code",
   "execution_count": 6,
   "metadata": {},
   "outputs": [],
   "source": [
    "SRC = '/Users/nakatani/labo/2021_root/2021_Dec/Transform/diff2'\n",
    "# SRC2 = '../../2021_Dec/Transform/transformed2/'"
   ]
  },
  {
   "cell_type": "code",
   "execution_count": 7,
   "metadata": {},
   "outputs": [],
   "source": [
    "fnames = sorted(os.listdir(SRC))"
   ]
  },
  {
   "cell_type": "markdown",
   "metadata": {},
   "source": [
    "画像は前回の撮影との差分画像"
   ]
  },
  {
   "cell_type": "code",
   "execution_count": 13,
   "metadata": {},
   "outputs": [
    {
     "data": {
      "image/png": "[encoded data removed]",
      "text/plain": [
       "<Figure size 432x288 with 1 Axes>"
      ]
     },
     "metadata": {
      "needs_background": "light"
     },
     "output_type": "display_data"
    }
   ],
   "source": [
    "img = cv2.imread(os.path.join(SRC, fnames[2]))\n",
    "\n",
    "from matplotlib import pyplot as plt\n",
    "plt.imshow(img)\n",
    "plt.show()"
   ]
  },
  {
   "cell_type": "code",
   "execution_count": 10,
   "metadata": {},
   "outputs": [
    {
     "data": {
      "text/plain": [
       "['138+P-1_211122.png',\n",
       " '138+P-1_211124.png',\n",
       " '138+P-1_211126.png',\n",
       " '138+P-1_211127.png',\n",
       " '138+P-1_211129.png',\n",
       " '138+P-3_211122.png',\n",
       " '138+P-3_211124.png',\n",
       " '138+P-3_211126.png',\n",
       " '138+P-3_211127.png',\n",
       " '138+P-3_211129.png',\n",
       " '138+P-4_211122.png',\n",
       " '138+P-4_211124.png',\n",
       " '138+P-4_211126.png',\n",
       " '138+P-4_211127.png',\n",
       " '138+P-4_211129.png',\n",
       " '138+P-5_211122.png',\n",
       " '138+P-5_211124.png',\n",
       " '138+P-5_211126.png',\n",
       " '138+P-5_211127.png',\n",
       " '138+P-5_211129.png',\n",
       " '138-P-1_211122.png',\n",
       " '138-P-1_211124.png',\n",
       " '138-P-1_211126.png',\n",
       " '138-P-1_211127.png',\n",
       " '138-P-1_211129.png',\n",
       " '138-P-2_211122.png',\n",
       " '138-P-2_211124.png',\n",
       " '138-P-2_211126.png',\n",
       " '138-P-2_211127.png',\n",
       " '138-P-2_211129.png',\n",
       " '138-P-3_211122.png',\n",
       " '138-P-3_211124.png',\n",
       " '138-P-3_211126.png',\n",
       " '138-P-3_211127.png',\n",
       " '138-P-3_211129.png',\n",
       " '138-P-4_211122.png',\n",
       " '138-P-4_211124.png',\n",
       " '138-P-4_211126.png',\n",
       " '138-P-4_211127.png',\n",
       " '138-P-4_211129.png',\n",
       " '138-P-5_211122.png',\n",
       " '138-P-5_211124.png',\n",
       " '138-P-5_211126.png',\n",
       " '138-P-5_211127.png',\n",
       " '138-P-5_211129.png',\n",
       " '150+P-1_211122.png',\n",
       " '150+P-1_211124.png',\n",
       " '150+P-1_211126.png',\n",
       " '150+P-1_211127.png',\n",
       " '150+P-1_211129.png',\n",
       " '150+P-2_211122.png',\n",
       " '150+P-2_211124.png',\n",
       " '150+P-2_211126.png',\n",
       " '150+P-2_211127.png',\n",
       " '150+P-2_211129.png',\n",
       " '150+P-3_211122.png',\n",
       " '150+P-3_211124.png',\n",
       " '150+P-3_211126.png',\n",
       " '150+P-3_211127.png',\n",
       " '150+P-3_211129.png',\n",
       " '150+P-4_211122.png',\n",
       " '150+P-4_211124.png',\n",
       " '150+P-4_211126.png',\n",
       " '150+P-4_211127.png',\n",
       " '150+P-4_211129.png',\n",
       " '150+P-5_211122.png',\n",
       " '150+P-5_211124.png',\n",
       " '150+P-5_211126.png',\n",
       " '150+P-5_211127.png',\n",
       " '150+P-5_211129.png',\n",
       " '150-P-1_211122.png',\n",
       " '150-P-1_211124.png',\n",
       " '150-P-1_211126.png',\n",
       " '150-P-1_211127.png',\n",
       " '150-P-1_211129.png',\n",
       " '150-P-2_211122.png',\n",
       " '150-P-2_211124.png',\n",
       " '150-P-2_211126.png',\n",
       " '150-P-2_211127.png',\n",
       " '150-P-2_211129.png',\n",
       " '150-P-3_211122.png',\n",
       " '150-P-3_211124.png',\n",
       " '150-P-3_211126.png',\n",
       " '150-P-3_211127.png',\n",
       " '150-P-3_211129.png',\n",
       " '150-P-4_211122.png',\n",
       " '150-P-4_211124.png',\n",
       " '150-P-4_211126.png',\n",
       " '150-P-4_211127.png',\n",
       " '150-P-4_211129.png',\n",
       " '150-P-5_211122.png',\n",
       " '150-P-5_211124.png',\n",
       " '150-P-5_211126.png',\n",
       " '150-P-5_211127.png',\n",
       " '150-P-5_211129.png',\n",
       " '165+P-1_211122.png',\n",
       " '165+P-1_211124.png',\n",
       " '165+P-1_211126.png',\n",
       " '165+P-1_211127.png',\n",
       " '165+P-1_211129.png',\n",
       " '165+P-2_211122.png',\n",
       " '165+P-2_211124.png',\n",
       " '165+P-2_211126.png',\n",
       " '165+P-2_211127.png',\n",
       " '165+P-2_211129.png',\n",
       " '165+P-3_211122.png',\n",
       " '165+P-3_211124.png',\n",
       " '165+P-3_211126.png',\n",
       " '165+P-3_211127.png',\n",
       " '165+P-3_211129.png',\n",
       " '165+P-4_211122.png',\n",
       " '165+P-4_211124.png',\n",
       " '165+P-4_211126.png',\n",
       " '165+P-4_211127.png',\n",
       " '165+P-4_211129.png',\n",
       " '165+P-5_211122.png',\n",
       " '165+P-5_211124.png',\n",
       " '165+P-5_211126.png',\n",
       " '165+P-5_211127.png',\n",
       " '165+P-5_211129.png',\n",
       " '165-P-1_211122.png',\n",
       " '165-P-1_211124.png',\n",
       " '165-P-1_211126.png',\n",
       " '165-P-1_211127.png',\n",
       " '165-P-1_211129.png',\n",
       " '165-P-2_211122.png',\n",
       " '165-P-2_211124.png',\n",
       " '165-P-2_211126.png',\n",
       " '165-P-2_211127.png',\n",
       " '165-P-2_211129.png',\n",
       " '165-P-3_211122.png',\n",
       " '165-P-3_211124.png',\n",
       " '165-P-3_211126.png',\n",
       " '165-P-3_211127.png',\n",
       " '165-P-3_211129.png',\n",
       " '165-P-4_211122.png',\n",
       " '165-P-4_211124.png',\n",
       " '165-P-4_211126.png',\n",
       " '165-P-4_211127.png',\n",
       " '165-P-4_211129.png',\n",
       " '165-P-5_211122.png',\n",
       " '165-P-5_211124.png',\n",
       " '165-P-5_211126.png',\n",
       " '165-P-5_211127.png',\n",
       " '165-P-5_211129.png',\n",
       " '170+P-1_211122.png',\n",
       " '170+P-1_211124.png',\n",
       " '170+P-1_211126.png',\n",
       " '170+P-1_211127.png',\n",
       " '170+P-1_211129.png',\n",
       " '170+P-2_211122.png',\n",
       " '170+P-2_211124.png',\n",
       " '170+P-2_211126.png',\n",
       " '170+P-2_211127.png',\n",
       " '170+P-2_211129.png',\n",
       " '170+P-3_211122.png',\n",
       " '170+P-3_211124.png',\n",
       " '170+P-3_211126.png',\n",
       " '170+P-3_211127.png',\n",
       " '170+P-3_211129.png',\n",
       " '170+P-4_211122.png',\n",
       " '170+P-4_211124.png',\n",
       " '170+P-4_211126.png',\n",
       " '170+P-4_211127.png',\n",
       " '170+P-4_211129.png',\n",
       " '170+P-5_211122.png',\n",
       " '170+P-5_211124.png',\n",
       " '170+P-5_211126.png',\n",
       " '170+P-5_211127.png',\n",
       " '170+P-5_211129.png',\n",
       " '170-P-1_211122.png',\n",
       " '170-P-1_211124.png',\n",
       " '170-P-1_211126.png',\n",
       " '170-P-1_211127.png',\n",
       " '170-P-1_211129.png',\n",
       " '170-P-2_211122.png',\n",
       " '170-P-2_211124.png',\n",
       " '170-P-2_211126.png',\n",
       " '170-P-2_211127.png',\n",
       " '170-P-2_211129.png',\n",
       " '170-P-3_211122.png',\n",
       " '170-P-3_211124.png',\n",
       " '170-P-3_211126.png',\n",
       " '170-P-3_211127.png',\n",
       " '170-P-3_211129.png',\n",
       " '170-P-4_211122.png',\n",
       " '170-P-4_211124.png',\n",
       " '170-P-4_211126.png',\n",
       " '170-P-4_211127.png',\n",
       " '170-P-4_211129.png',\n",
       " '170-P-5_211122.png',\n",
       " '170-P-5_211124.png',\n",
       " '170-P-5_211126.png',\n",
       " '170-P-5_211127.png',\n",
       " '170-P-5_211129.png']"
      ]
     },
     "execution_count": 10,
     "metadata": {},
     "output_type": "execute_result"
    }
   ],
   "source": [
    "fnames# = fnames[1:]"
   ]
  },
  {
   "cell_type": "code",
   "execution_count": 9,
   "metadata": {},
   "outputs": [
    {
     "data": {
      "text/plain": [
       "195"
      ]
     },
     "execution_count": 9,
     "metadata": {},
     "output_type": "execute_result"
    }
   ],
   "source": [
    "len(fnames)"
   ]
  },
  {
   "cell_type": "code",
   "execution_count": 63,
   "metadata": {},
   "outputs": [],
   "source": [
    "import pandas as pd"
   ]
  },
  {
   "cell_type": "code",
   "execution_count": 59,
   "metadata": {},
   "outputs": [],
   "source": [
    "list_v = []\n",
    "list_h = []\n",
    "for fname in fnames:\n",
    "    if '211122' in fname:　# 211122 == 最初の撮影日\n",
    "        img = cv2.imread(os.path.join(SRC, fname), 0)\n",
    "    else:\n",
    "        img = cv2.imread(os.path.join(SRC, fname), 0)\n",
    "    img = img // 255　# img を0, 1のバイナリに\n",
    "    v = list(np.sum(img, axis = 0)) # 縦方向に和を取ったもの\n",
    "    h = list(np.sum(img, axis = 1)) # 横方向に和を取ったもの\n",
    "    list_v.append(v)\n",
    "    list_h.append(h)"
   ]
  },
  {
   "cell_type": "code",
   "execution_count": 64,
   "metadata": {
    "scrolled": true
   },
   "outputs": [],
   "source": [
    "df_v =  pd.DataFrame(list_v)\n",
    "df_h =  pd.DataFrame(list_h)"
   ]
  },
  {
   "cell_type": "code",
   "execution_count": 67,
   "metadata": {},
   "outputs": [],
   "source": [
    "img_ = cv2.imread('/Users/nakatani/labo/2021_root/2021_Dec/seed-pack2_resized/138-P-1_211122.png')"
   ]
  },
  {
   "cell_type": "code",
   "execution_count": 68,
   "metadata": {},
   "outputs": [
    {
     "data": {
      "text/plain": [
       "(1824, 2736, 3)"
      ]
     },
     "execution_count": 68,
     "metadata": {},
     "output_type": "execute_result"
    }
   ],
   "source": [
    "img_.shape"
   ]
  },
  {
   "cell_type": "code",
   "execution_count": 69,
   "metadata": {},
   "outputs": [
    {
     "name": "stdout",
     "output_type": "stream",
     "text": [
      "\u001b[34mdiff_er2dl\u001b[m\u001b[m \u001b[34mpynb\u001b[m\u001b[m\r\n"
     ]
    }
   ],
   "source": [
    "!ls .."
   ]
  },
  {
   "cell_type": "code",
   "execution_count": 74,
   "metadata": {},
   "outputs": [
    {
     "data": {
      "text/plain": [
       "(1824, 2736)"
      ]
     },
     "execution_count": 74,
     "metadata": {},
     "output_type": "execute_result"
    }
   ],
   "source": [
    "img.shape"
   ]
  },
  {
   "cell_type": "code",
   "execution_count": 75,
   "metadata": {},
   "outputs": [
    {
     "name": "stdout",
     "output_type": "stream",
     "text": [
      "(195, 2736)\n",
      "(195, 1824)\n"
     ]
    }
   ],
   "source": [
    "print(np.array(list_v).shape) # 縦にぺちゃんこ\n",
    "print(np.array(list_h).shape) # 横にぺちゃんこ"
   ]
  },
  {
   "cell_type": "markdown",
   "metadata": {},
   "source": [
    "↑画像枚数==195, width==2736, height==1824"
   ]
  },
  {
   "cell_type": "code",
   "execution_count": null,
   "metadata": {},
   "outputs": [],
   "source": [
    "df_v.index = df_h.index = fnames"
   ]
  },
  {
   "cell_type": "code",
   "execution_count": 76,
   "metadata": {},
   "outputs": [],
   "source": [
    "df_v.index = df_h.index = fnames"
   ]
  },
  {
   "cell_type": "code",
   "execution_count": 77,
   "metadata": {},
   "outputs": [],
   "source": [
    "df_v.to_csv('../projection_profile/df_vertical.csv')\n",
    "df_h.to_csv('../projection_profile/df_horizontal.csv')"
   ]
  },
  {
   "cell_type": "code",
   "execution_count": 82,
   "metadata": {},
   "outputs": [],
   "source": [
    "import pandas as pd\n",
    "\n",
    "PATH_V = ''  # ex) '../projection_profile/df_vertical.csv'\n",
    "PATH_H = ''  # ex) '../projection_profile/df_horizontal.csv'\n",
    "\n",
    "\n",
    "# 元画像は(height, width) = (1824 , 2736)，枚数は195枚\n",
    "df_v_ = pd.read_csv(PATH_V) # indexがファイル名，各行が一つのprojection_profileに相当（195, 2736）\n",
    "df_h_ = pd.read_csv(PATH_H)　# indexがファイル名，各行が一つのprojection_profileに相当（195, 1824）"
   ]
  },
  {
   "cell_type": "code",
   "execution_count": 81,
   "metadata": {},
   "outputs": [
    {
     "data": {
      "text/html": [
       "<div>\n",
       "<style scoped>\n",
       "    .dataframe tbody tr th:only-of-type {\n",
       "        vertical-align: middle;\n",
       "    }\n",
       "\n",
       "    .dataframe tbody tr th {\n",
       "        vertical-align: top;\n",
       "    }\n",
       "\n",
       "    .dataframe thead th {\n",
       "        text-align: right;\n",
       "    }\n",
       "</style>\n",
       "<table border=\"1\" class=\"dataframe\">\n",
       "  <thead>\n",
       "    <tr style=\"text-align: right;\">\n",
       "      <th></th>\n",
       "      <th>0</th>\n",
       "      <th>1</th>\n",
       "      <th>2</th>\n",
       "      <th>3</th>\n",
       "      <th>4</th>\n",
       "      <th>5</th>\n",
       "      <th>6</th>\n",
       "      <th>7</th>\n",
       "      <th>8</th>\n",
       "      <th>9</th>\n",
       "      <th>...</th>\n",
       "      <th>2726</th>\n",
       "      <th>2727</th>\n",
       "      <th>2728</th>\n",
       "      <th>2729</th>\n",
       "      <th>2730</th>\n",
       "      <th>2731</th>\n",
       "      <th>2732</th>\n",
       "      <th>2733</th>\n",
       "      <th>2734</th>\n",
       "      <th>2735</th>\n",
       "    </tr>\n",
       "  </thead>\n",
       "  <tbody>\n",
       "    <tr>\n",
       "      <th>138+P-1_211122.png</th>\n",
       "      <td>0</td>\n",
       "      <td>0</td>\n",
       "      <td>0</td>\n",
       "      <td>0</td>\n",
       "      <td>0</td>\n",
       "      <td>0</td>\n",
       "      <td>0</td>\n",
       "      <td>0</td>\n",
       "      <td>0</td>\n",
       "      <td>0</td>\n",
       "      <td>...</td>\n",
       "      <td>0</td>\n",
       "      <td>0</td>\n",
       "      <td>0</td>\n",
       "      <td>0</td>\n",
       "      <td>0</td>\n",
       "      <td>0</td>\n",
       "      <td>0</td>\n",
       "      <td>0</td>\n",
       "      <td>0</td>\n",
       "      <td>0</td>\n",
       "    </tr>\n",
       "    <tr>\n",
       "      <th>138+P-1_211124.png</th>\n",
       "      <td>0</td>\n",
       "      <td>0</td>\n",
       "      <td>0</td>\n",
       "      <td>0</td>\n",
       "      <td>0</td>\n",
       "      <td>0</td>\n",
       "      <td>0</td>\n",
       "      <td>0</td>\n",
       "      <td>0</td>\n",
       "      <td>0</td>\n",
       "      <td>...</td>\n",
       "      <td>0</td>\n",
       "      <td>0</td>\n",
       "      <td>0</td>\n",
       "      <td>0</td>\n",
       "      <td>0</td>\n",
       "      <td>0</td>\n",
       "      <td>0</td>\n",
       "      <td>0</td>\n",
       "      <td>0</td>\n",
       "      <td>0</td>\n",
       "    </tr>\n",
       "    <tr>\n",
       "      <th>138+P-1_211126.png</th>\n",
       "      <td>0</td>\n",
       "      <td>0</td>\n",
       "      <td>0</td>\n",
       "      <td>0</td>\n",
       "      <td>0</td>\n",
       "      <td>0</td>\n",
       "      <td>0</td>\n",
       "      <td>0</td>\n",
       "      <td>0</td>\n",
       "      <td>0</td>\n",
       "      <td>...</td>\n",
       "      <td>0</td>\n",
       "      <td>0</td>\n",
       "      <td>0</td>\n",
       "      <td>0</td>\n",
       "      <td>0</td>\n",
       "      <td>0</td>\n",
       "      <td>0</td>\n",
       "      <td>0</td>\n",
       "      <td>0</td>\n",
       "      <td>0</td>\n",
       "    </tr>\n",
       "    <tr>\n",
       "      <th>138+P-1_211127.png</th>\n",
       "      <td>0</td>\n",
       "      <td>0</td>\n",
       "      <td>0</td>\n",
       "      <td>0</td>\n",
       "      <td>0</td>\n",
       "      <td>0</td>\n",
       "      <td>0</td>\n",
       "      <td>0</td>\n",
       "      <td>0</td>\n",
       "      <td>0</td>\n",
       "      <td>...</td>\n",
       "      <td>0</td>\n",
       "      <td>0</td>\n",
       "      <td>0</td>\n",
       "      <td>0</td>\n",
       "      <td>0</td>\n",
       "      <td>0</td>\n",
       "      <td>0</td>\n",
       "      <td>0</td>\n",
       "      <td>0</td>\n",
       "      <td>0</td>\n",
       "    </tr>\n",
       "    <tr>\n",
       "      <th>138+P-1_211129.png</th>\n",
       "      <td>0</td>\n",
       "      <td>0</td>\n",
       "      <td>0</td>\n",
       "      <td>0</td>\n",
       "      <td>0</td>\n",
       "      <td>0</td>\n",
       "      <td>0</td>\n",
       "      <td>0</td>\n",
       "      <td>0</td>\n",
       "      <td>0</td>\n",
       "      <td>...</td>\n",
       "      <td>0</td>\n",
       "      <td>0</td>\n",
       "      <td>0</td>\n",
       "      <td>0</td>\n",
       "      <td>0</td>\n",
       "      <td>0</td>\n",
       "      <td>0</td>\n",
       "      <td>0</td>\n",
       "      <td>0</td>\n",
       "      <td>0</td>\n",
       "    </tr>\n",
       "    <tr>\n",
       "      <th>...</th>\n",
       "      <td>...</td>\n",
       "      <td>...</td>\n",
       "      <td>...</td>\n",
       "      <td>...</td>\n",
       "      <td>...</td>\n",
       "      <td>...</td>\n",
       "      <td>...</td>\n",
       "      <td>...</td>\n",
       "      <td>...</td>\n",
       "      <td>...</td>\n",
       "      <td>...</td>\n",
       "      <td>...</td>\n",
       "      <td>...</td>\n",
       "      <td>...</td>\n",
       "      <td>...</td>\n",
       "      <td>...</td>\n",
       "      <td>...</td>\n",
       "      <td>...</td>\n",
       "      <td>...</td>\n",
       "      <td>...</td>\n",
       "      <td>...</td>\n",
       "    </tr>\n",
       "    <tr>\n",
       "      <th>170-P-5_211122.png</th>\n",
       "      <td>0</td>\n",
       "      <td>0</td>\n",
       "      <td>0</td>\n",
       "      <td>0</td>\n",
       "      <td>0</td>\n",
       "      <td>0</td>\n",
       "      <td>0</td>\n",
       "      <td>0</td>\n",
       "      <td>0</td>\n",
       "      <td>0</td>\n",
       "      <td>...</td>\n",
       "      <td>0</td>\n",
       "      <td>0</td>\n",
       "      <td>0</td>\n",
       "      <td>0</td>\n",
       "      <td>0</td>\n",
       "      <td>0</td>\n",
       "      <td>0</td>\n",
       "      <td>0</td>\n",
       "      <td>0</td>\n",
       "      <td>0</td>\n",
       "    </tr>\n",
       "    <tr>\n",
       "      <th>170-P-5_211124.png</th>\n",
       "      <td>0</td>\n",
       "      <td>0</td>\n",
       "      <td>0</td>\n",
       "      <td>0</td>\n",
       "      <td>0</td>\n",
       "      <td>0</td>\n",
       "      <td>0</td>\n",
       "      <td>0</td>\n",
       "      <td>0</td>\n",
       "      <td>0</td>\n",
       "      <td>...</td>\n",
       "      <td>0</td>\n",
       "      <td>0</td>\n",
       "      <td>0</td>\n",
       "      <td>0</td>\n",
       "      <td>0</td>\n",
       "      <td>0</td>\n",
       "      <td>0</td>\n",
       "      <td>0</td>\n",
       "      <td>0</td>\n",
       "      <td>0</td>\n",
       "    </tr>\n",
       "    <tr>\n",
       "      <th>170-P-5_211126.png</th>\n",
       "      <td>0</td>\n",
       "      <td>0</td>\n",
       "      <td>0</td>\n",
       "      <td>0</td>\n",
       "      <td>0</td>\n",
       "      <td>0</td>\n",
       "      <td>0</td>\n",
       "      <td>0</td>\n",
       "      <td>0</td>\n",
       "      <td>0</td>\n",
       "      <td>...</td>\n",
       "      <td>0</td>\n",
       "      <td>0</td>\n",
       "      <td>0</td>\n",
       "      <td>0</td>\n",
       "      <td>0</td>\n",
       "      <td>0</td>\n",
       "      <td>0</td>\n",
       "      <td>0</td>\n",
       "      <td>0</td>\n",
       "      <td>0</td>\n",
       "    </tr>\n",
       "    <tr>\n",
       "      <th>170-P-5_211127.png</th>\n",
       "      <td>0</td>\n",
       "      <td>0</td>\n",
       "      <td>0</td>\n",
       "      <td>0</td>\n",
       "      <td>0</td>\n",
       "      <td>0</td>\n",
       "      <td>0</td>\n",
       "      <td>0</td>\n",
       "      <td>0</td>\n",
       "      <td>0</td>\n",
       "      <td>...</td>\n",
       "      <td>0</td>\n",
       "      <td>0</td>\n",
       "      <td>0</td>\n",
       "      <td>0</td>\n",
       "      <td>0</td>\n",
       "      <td>0</td>\n",
       "      <td>0</td>\n",
       "      <td>0</td>\n",
       "      <td>0</td>\n",
       "      <td>0</td>\n",
       "    </tr>\n",
       "    <tr>\n",
       "      <th>170-P-5_211129.png</th>\n",
       "      <td>0</td>\n",
       "      <td>0</td>\n",
       "      <td>0</td>\n",
       "      <td>0</td>\n",
       "      <td>0</td>\n",
       "      <td>0</td>\n",
       "      <td>0</td>\n",
       "      <td>0</td>\n",
       "      <td>0</td>\n",
       "      <td>0</td>\n",
       "      <td>...</td>\n",
       "      <td>0</td>\n",
       "      <td>0</td>\n",
       "      <td>0</td>\n",
       "      <td>0</td>\n",
       "      <td>0</td>\n",
       "      <td>0</td>\n",
       "      <td>0</td>\n",
       "      <td>0</td>\n",
       "      <td>0</td>\n",
       "      <td>0</td>\n",
       "    </tr>\n",
       "  </tbody>\n",
       "</table>\n",
       "<p>195 rows × 2736 columns</p>\n",
       "</div>"
      ],
      "text/plain": [
       "                    0     1     2     3     4     5     6     7     8     \\\n",
       "138+P-1_211122.png     0     0     0     0     0     0     0     0     0   \n",
       "138+P-1_211124.png     0     0     0     0     0     0     0     0     0   \n",
       "138+P-1_211126.png     0     0     0     0     0     0     0     0     0   \n",
       "138+P-1_211127.png     0     0     0     0     0     0     0     0     0   \n",
       "138+P-1_211129.png     0     0     0     0     0     0     0     0     0   \n",
       "...                  ...   ...   ...   ...   ...   ...   ...   ...   ...   \n",
       "170-P-5_211122.png     0     0     0     0     0     0     0     0     0   \n",
       "170-P-5_211124.png     0     0     0     0     0     0     0     0     0   \n",
       "170-P-5_211126.png     0     0     0     0     0     0     0     0     0   \n",
       "170-P-5_211127.png     0     0     0     0     0     0     0     0     0   \n",
       "170-P-5_211129.png     0     0     0     0     0     0     0     0     0   \n",
       "\n",
       "                    9     ...  2726  2727  2728  2729  2730  2731  2732  2733  \\\n",
       "138+P-1_211122.png     0  ...     0     0     0     0     0     0     0     0   \n",
       "138+P-1_211124.png     0  ...     0     0     0     0     0     0     0     0   \n",
       "138+P-1_211126.png     0  ...     0     0     0     0     0     0     0     0   \n",
       "138+P-1_211127.png     0  ...     0     0     0     0     0     0     0     0   \n",
       "138+P-1_211129.png     0  ...     0     0     0     0     0     0     0     0   \n",
       "...                  ...  ...   ...   ...   ...   ...   ...   ...   ...   ...   \n",
       "170-P-5_211122.png     0  ...     0     0     0     0     0     0     0     0   \n",
       "170-P-5_211124.png     0  ...     0     0     0     0     0     0     0     0   \n",
       "170-P-5_211126.png     0  ...     0     0     0     0     0     0     0     0   \n",
       "170-P-5_211127.png     0  ...     0     0     0     0     0     0     0     0   \n",
       "170-P-5_211129.png     0  ...     0     0     0     0     0     0     0     0   \n",
       "\n",
       "                    2734  2735  \n",
       "138+P-1_211122.png     0     0  \n",
       "138+P-1_211124.png     0     0  \n",
       "138+P-1_211126.png     0     0  \n",
       "138+P-1_211127.png     0     0  \n",
       "138+P-1_211129.png     0     0  \n",
       "...                  ...   ...  \n",
       "170-P-5_211122.png     0     0  \n",
       "170-P-5_211124.png     0     0  \n",
       "170-P-5_211126.png     0     0  \n",
       "170-P-5_211127.png     0     0  \n",
       "170-P-5_211129.png     0     0  \n",
       "\n",
       "[195 rows x 2736 columns]"
      ]
     },
     "execution_count": 81,
     "metadata": {},
     "output_type": "execute_result"
    }
   ],
   "source": [
    "df_v"
   ]
  },
  {
   "cell_type": "code",
   "execution_count": 114,
   "metadata": {},
   "outputs": [],
   "source": [
    "for index, row in df_v.iterrows():\n",
    "    if index == '138+P-1_211122.png':\n",
    "        list_pp = list(row)\n",
    "        break"
   ]
  },
  {
   "cell_type": "code",
   "execution_count": 115,
   "metadata": {},
   "outputs": [],
   "source": [
    "a = list(df_v.loc['138+P-1_211122.png'])"
   ]
  },
  {
   "cell_type": "code",
   "execution_count": 116,
   "metadata": {},
   "outputs": [
    {
     "data": {
      "text/plain": [
       "<BarContainer object of 2736 artists>"
      ]
     },
     "execution_count": 116,
     "metadata": {},
     "output_type": "execute_result"
    },
    {
     "data": {
      "image/png": "[encoded data removed]",
      "text/plain": [
       "<Figure size 432x288 with 1 Axes>"
      ]
     },
     "metadata": {
      "needs_background": "light"
     },
     "output_type": "display_data"
    }
   ],
   "source": [
    "left = np.arange(W)\n",
    "height = a\n",
    "plt.bar(left, height)"
   ]
  },
  {
   "cell_type": "code",
   "execution_count": 109,
   "metadata": {},
   "outputs": [
    {
     "data": {
      "text/plain": [
       "'138-P-1_211122.png'"
      ]
     },
     "execution_count": 109,
     "metadata": {},
     "output_type": "execute_result"
    }
   ],
   "source": [
    "index"
   ]
  },
  {
   "cell_type": "code",
   "execution_count": 30,
   "metadata": {},
   "outputs": [],
   "source": [
    "H, W = img.shape"
   ]
  },
  {
   "cell_type": "code",
   "execution_count": 32,
   "metadata": {},
   "outputs": [
    {
     "data": {
      "text/plain": [
       "array([0, 1, 2, 3, 4])"
      ]
     },
     "execution_count": 32,
     "metadata": {},
     "output_type": "execute_result"
    }
   ],
   "source": [
    "np.arange(5)"
   ]
  },
  {
   "cell_type": "code",
   "execution_count": 33,
   "metadata": {},
   "outputs": [
    {
     "data": {
      "text/plain": [
       "<BarContainer object of 1824 artists>"
      ]
     },
     "execution_count": 33,
     "metadata": {},
     "output_type": "execute_result"
    },
    {
     "data": {
      "image/png": "[encoded data removed]",
      "text/plain": [
       "<Figure size 432x288 with 1 Axes>"
      ]
     },
     "metadata": {
      "needs_background": "light"
     },
     "output_type": "display_data"
    }
   ],
   "source": [
    "import matplotlib.pyplot as plt\n",
    " \n",
    "left = np.arange(H)\n",
    "height = h\n",
    "plt.bar(left, height)"
   ]
  },
  {
   "cell_type": "code",
   "execution_count": 35,
   "metadata": {},
   "outputs": [
    {
     "data": {
      "text/plain": [
       "<BarContainer object of 2736 artists>"
      ]
     },
     "execution_count": 35,
     "metadata": {},
     "output_type": "execute_result"
    },
    {
     "data": {
      "image/png": "[encoded data removed]",
      "text/plain": [
       "<Figure size 432x288 with 1 Axes>"
      ]
     },
     "metadata": {
      "needs_background": "light"
     },
     "output_type": "display_data"
    }
   ],
   "source": [
    "import matplotlib.pyplot as plt\n",
    " \n",
    "left = np.arange(W)\n",
    "height = v\n",
    "plt.bar(left, height)"
   ]
  },
  {
   "cell_type": "code",
   "execution_count": null,
   "metadata": {},
   "outputs": [],
   "source": []
  }
 ],
 "metadata": {
  "kernelspec": {
   "display_name": "Python 3",
   "language": "python",
   "name": "python3"
  },
  "language_info": {
   "codemirror_mode": {
    "name": "ipython",
    "version": 3
   },
   "file_extension": ".py",
   "mimetype": "text/x-python",
   "name": "python",
   "nbconvert_exporter": "python",
   "pygments_lexer": "ipython3",
   "version": "3.6.12"
  }
 },
 "nbformat": 4,
 "nbformat_minor": 4
}
