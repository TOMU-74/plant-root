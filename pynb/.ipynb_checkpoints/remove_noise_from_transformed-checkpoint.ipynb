{
 "cells": [
  {
   "cell_type": "markdown",
   "metadata": {},
   "source": [
    "## ノイズを取り除く，閾値処理をした後に最大のcontour（MAX_CNT）を取り出す．"
   ]
  },
  {
   "cell_type": "code",
   "execution_count": 7,
   "metadata": {},
   "outputs": [],
   "source": [
    "import cv2\n",
    "import os\n",
    "import re"
   ]
  },
  {
   "cell_type": "code",
   "execution_count": 21,
   "metadata": {},
   "outputs": [],
   "source": [
    "SRC = '../transformed'\n",
    "DST1 = '../noise-removed'\n",
    "DST2 = '../pile-up'"
   ]
  },
  {
   "cell_type": "code",
   "execution_count": 22,
   "metadata": {},
   "outputs": [],
   "source": [
    "fnames = sorted(os.listdir(SRC))"
   ]
  },
  {
   "cell_type": "code",
   "execution_count": 49,
   "metadata": {},
   "outputs": [
    {
     "name": "stdout",
     "output_type": "stream",
     "text": [
      "(1824, 2736, 3)\n",
      "(1824, 2736, 3)\n",
      "(1824, 2736, 3)\n",
      "(1824, 2736, 3)\n",
      "(1824, 2736, 3)\n",
      "(1824, 2736, 3)\n",
      "(1824, 2736, 3)\n",
      "(1824, 2736, 3)\n",
      "(1824, 2736, 3)\n",
      "(1824, 2736, 3)\n",
      "(1824, 2736, 3)\n",
      "(1824, 2736, 3)\n",
      "(1824, 2736, 3)\n",
      "(1824, 2736, 3)\n",
      "(1824, 2736, 3)\n",
      "(1824, 2736, 3)\n",
      "(1824, 2736, 3)\n",
      "(1824, 2736, 3)\n",
      "(1824, 2736, 3)\n",
      "(1824, 2736, 3)\n",
      "(1824, 2736, 3)\n",
      "(1824, 2736, 3)\n",
      "(1824, 2736, 3)\n",
      "(1824, 2736, 3)\n",
      "(1824, 2736, 3)\n",
      "(1824, 2736, 3)\n",
      "(1824, 2736, 3)\n",
      "(1824, 2736, 3)\n",
      "(1824, 2736, 3)\n",
      "(1824, 2736, 3)\n",
      "(1824, 2736, 3)\n",
      "(1824, 2736, 3)\n",
      "(1824, 2736, 3)\n",
      "(1824, 2736, 3)\n",
      "(1824, 2736, 3)\n",
      "(1824, 2736, 3)\n",
      "(1824, 2736, 3)\n",
      "(1824, 2736, 3)\n"
     ]
    },
    {
     "data": {
      "text/plain": [
       "True"
      ]
     },
     "execution_count": 49,
     "metadata": {},
     "output_type": "execute_result"
    }
   ],
   "source": [
    "prev = ''\n",
    "for fname in fnames:\n",
    "    img = cv2.imread(os.path.join(SRC, fname))\n",
    "    root_name = re.findall('(.+)_', fname)[0]\n",
    "    if root_name != prev:\n",
    "        if fname != fnames[0]:\n",
    "            print(base_img.shape)\n",
    "            cv2.imwrite(os.path.join(DST2, prev +'.png'), base_img)\n",
    "            cv2.imwrite(os.path.join(DST2, fname), img)\n",
    "        base_img = img\n",
    "    else:\n",
    "        base_img = cv2.bitwise_or(base_img, img)\n",
    "    \n",
    "    cv2.imwrite(os.path.join(DST2, fname), base_img)\n",
    "    prev = root_name\n",
    "cv2.imwrite(os.path.join(DST2, root_name+'.png'), base_img)"
   ]
  },
  {
   "cell_type": "code",
   "execution_count": 41,
   "metadata": {},
   "outputs": [],
   "source": [
    "def find_max_cnt(contours):\n",
    "    max_idx = -1\n",
    "    max_area = 0\n",
    "    for i, cnt in enumerate(contours):\n",
    "        if cv2.contourArea(cnt) > max_area:\n",
    "            max_idx = i\n",
    "            max_area = cv2.contourArea(cnt)\n",
    "    cnt = contours[max_idx]\n",
    "    return cnt"
   ]
  },
  {
   "cell_type": "code",
   "execution_count": 42,
   "metadata": {},
   "outputs": [],
   "source": [
    "MAX_CNT = '../max_cnt'"
   ]
  },
  {
   "cell_type": "code",
   "execution_count": 43,
   "metadata": {},
   "outputs": [],
   "source": [
    "import numpy as np"
   ]
  },
  {
   "cell_type": "code",
   "execution_count": 44,
   "metadata": {},
   "outputs": [],
   "source": [
    "fnames2 = sorted(os.listdir(DST2))\n",
    "for fname in fnames2:\n",
    "    img = cv2.imread(os.path.join(DST2, fname))\n",
    "    gray = cv2.cvtColor(img,cv2.COLOR_BGR2GRAY)\n",
    "    ret,thresh = cv2.threshold(gray,1,255,0)\n",
    "    image, contours, hierarchy = cv2.findContours(thresh,cv2.RETR_TREE,cv2.CHAIN_APPROX_NONE)\n",
    "    cnt = find_max_cnt(contours)\n",
    "    blk = np.zeros(img.shape, np.uint8)\n",
    "    root = cv2.drawContours(blk, [cnt], 0, (255,255,255), -1)\n",
    "    cv2.imwrite(os.path.join(MAX_CNT, fname), root)"
   ]
  },
  {
   "cell_type": "code",
   "execution_count": 46,
   "metadata": {},
   "outputs": [],
   "source": [
    "for fname in fnames:\n",
    "    img = cv2.imread(os.path.join(SRC, fname))\n",
    "    root_name = re.findall('(.+)_', fname)[0]\n",
    "    mask = cv2.imread(os.path.join(MAX_CNT, root_name + '.png'))\n",
    "    img = cv2.bitwise_and(img, mask)\n",
    "    cv2.imwrite(os.path.join(DST1, fname), img)"
   ]
  },
  {
   "cell_type": "code",
   "execution_count": 39,
   "metadata": {},
   "outputs": [
    {
     "data": {
      "text/plain": [
       "['138+P-1_211122.png',\n",
       " '138+P-1_211124.png',\n",
       " '138+P-1_211126.png',\n",
       " '138+P-1_211127.png']"
      ]
     },
     "execution_count": 39,
     "metadata": {},
     "output_type": "execute_result"
    }
   ],
   "source": [
    "fnames[:4]"
   ]
  },
  {
   "cell_type": "code",
   "execution_count": null,
   "metadata": {},
   "outputs": [],
   "source": [
    "fnames[]"
   ]
  }
 ],
 "metadata": {
  "kernelspec": {
   "display_name": "Python 3",
   "language": "python",
   "name": "python3"
  },
  "language_info": {
   "codemirror_mode": {
    "name": "ipython",
    "version": 3
   },
   "file_extension": ".py",
   "mimetype": "text/x-python",
   "name": "python",
   "nbconvert_exporter": "python",
   "pygments_lexer": "ipython3",
   "version": "3.6.12"
  }
 },
 "nbformat": 4,
 "nbformat_minor": 4
}
