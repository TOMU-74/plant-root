{
 "cells": [
  {
   "cell_type": "code",
   "execution_count": 4,
   "metadata": {},
   "outputs": [],
   "source": [
    "import os\n",
    "import re\n",
    "import cv2\n",
    "# import pillow"
   ]
  },
  {
   "cell_type": "code",
   "execution_count": 5,
   "metadata": {},
   "outputs": [],
   "source": [
    "ORGN = '../seed-pack2_resized'"
   ]
  },
  {
   "cell_type": "code",
   "execution_count": 6,
   "metadata": {},
   "outputs": [],
   "source": [
    "fnames = sorted(os.listdir(ORGN))"
   ]
  },
  {
   "cell_type": "code",
   "execution_count": 15,
   "metadata": {},
   "outputs": [],
   "source": [
    "date_list = []\n",
    "root_list = []\n",
    "for fname in fnames:\n",
    "    date = re.findall('_(\\d+).', fname)[0]\n",
    "    root = re.findall('(.+)_', fname)[0]\n",
    "    if date not in date_list:\n",
    "        date_list.append(date)\n",
    "    if root not in root_list:\n",
    "        root_list.append(root)"
   ]
  },
  {
   "cell_type": "code",
   "execution_count": 16,
   "metadata": {},
   "outputs": [
    {
     "data": {
      "text/plain": [
       "['211122', '211124', '211126', '211127', '211129']"
      ]
     },
     "execution_count": 16,
     "metadata": {},
     "output_type": "execute_result"
    }
   ],
   "source": [
    "date_list"
   ]
  },
  {
   "cell_type": "code",
   "execution_count": 20,
   "metadata": {
    "scrolled": true
   },
   "outputs": [
    {
     "data": {
      "text/plain": [
       "['138+P-1', '138+P-3', '138+P-4', '138+P-5', '138-P-1']"
      ]
     },
     "execution_count": 20,
     "metadata": {},
     "output_type": "execute_result"
    }
   ],
   "source": [
    "root_list[:5]"
   ]
  },
  {
   "cell_type": "code",
   "execution_count": 21,
   "metadata": {},
   "outputs": [
    {
     "data": {
      "text/plain": [
       "195"
      ]
     },
     "execution_count": 21,
     "metadata": {},
     "output_type": "execute_result"
    }
   ],
   "source": [
    "len(date_list)*len(root_list)"
   ]
  },
  {
   "cell_type": "code",
   "execution_count": null,
   "metadata": {},
   "outputs": [],
   "source": []
  },
  {
   "cell_type": "code",
   "execution_count": null,
   "metadata": {},
   "outputs": [],
   "source": []
  },
  {
   "cell_type": "code",
   "execution_count": 123,
   "metadata": {},
   "outputs": [
    {
     "data": {
      "text/plain": [
       "{'211122': [255, 255, 255],\n",
       " '211124': [255, 47, 0],\n",
       " '211126': [182, 255, 55],\n",
       " '211127': [0, 252, 202],\n",
       " '211129': [128, 0, 128]}"
      ]
     },
     "execution_count": 123,
     "metadata": {},
     "output_type": "execute_result"
    }
   ],
   "source": [
    "import numpy as np\n",
    "import matplotlib as mpl\n",
    "import matplotlib.pyplot as plt\n",
    "from matplotlib import cm\n",
    "from colorspacious import cspace_converter\n",
    "from collections import OrderedDict\n",
    "\n",
    "cmaps = OrderedDict()\n",
    "\n",
    "cmaps['Qualitative'] = ['Pastel1', 'Pastel2', 'Paired', 'Accent',\n",
    "                        'Dark2', 'Set1', 'Set2', 'Set3',\n",
    "                        'tab10', 'tab20', 'tab20b', 'tab20c']\n",
    "\n",
    "cmap=plt.get_cmap('gist_ncar')\n",
    "\n",
    "color_list = []\n",
    "for i in range(4):\n",
    "    color_list.append([int(c*255) for c in cmap((3-i) * 60)[:3]])\n",
    "\n",
    "color_list = [[255, 255, 255]] + color_list\n",
    "\n",
    "color_list[-1] = [128, 0, 128]\n",
    "color_list\n",
    "\n",
    "color_dic= dict([(date, color) for date, color in zip(date_list, color_list)])\n",
    "\n",
    "color_dic"
   ]
  },
  {
   "cell_type": "markdown",
   "metadata": {},
   "source": [
    "## 色のキャプション作成"
   ]
  },
  {
   "cell_type": "code",
   "execution_count": 114,
   "metadata": {},
   "outputs": [],
   "source": [
    "from PIL import Image\n",
    "from PIL import ImageDraw"
   ]
  },
  {
   "cell_type": "code",
   "execution_count": 115,
   "metadata": {},
   "outputs": [],
   "source": [
    "from PIL import ImageFont\n",
    "\n",
    "def add_text_to_image(img, text, font_path, font_size, font_color, height, width, max_length=740):\n",
    "    position = (width, height)\n",
    "    font = ImageFont.truetype(font_path, font_size)\n",
    "    draw = ImageDraw.Draw(img)\n",
    "    if draw.textsize(text, font=font)[0] > max_length:\n",
    "        while draw.textsize(text + '…', font=font)[0] > max_length:\n",
    "            text = text[:-1]\n",
    "        text = text + '…'\n",
    "\n",
    "    draw.text(position, text, font_color, font=font)\n",
    "\n",
    "    return img"
   ]
  },
  {
   "cell_type": "code",
   "execution_count": 118,
   "metadata": {},
   "outputs": [],
   "source": [
    "img = Image.new(\"RGB\", (90*4, 105*4), (130, 130, 130))\n",
    "draw = ImageDraw.Draw(img)\n",
    "\n",
    "blk = (0, 0, 0)\n",
    "for i in range(5):\n",
    "    date = date_list[i]\n",
    "    color = tuple(color_list[i])\n",
    "    draw.ellipse((10*4, (5 + i*20)*4, 25*4, (20 + i*20)*4), fill=(color))\n",
    "    img = add_text_to_image(img, date[2:], font_path, 10*4, blk, 35 + i*20*4, 50*4)"
   ]
  },
  {
   "cell_type": "code",
   "execution_count": 119,
   "metadata": {},
   "outputs": [
    {
     "data": {
      "image/png": "[encoded data removed]",
      "text/plain": [
       "<PIL.Image.Image image mode=RGB size=360x420 at 0x7FF699E124E0>"
      ]
     },
     "execution_count": 119,
     "metadata": {},
     "output_type": "execute_result"
    }
   ],
   "source": [
    "img"
   ]
  },
  {
   "cell_type": "code",
   "execution_count": 120,
   "metadata": {},
   "outputs": [],
   "source": [
    "font_path = \"/System/Library/Fonts/Helvetica.ttc\"\n",
    "caption = img"
   ]
  },
  {
   "cell_type": "code",
   "execution_count": 121,
   "metadata": {},
   "outputs": [],
   "source": [
    "def pil2cv(image):\n",
    "    ''' PIL型 -> OpenCV型 '''\n",
    "    new_image = np.array(image, dtype=np.uint8)\n",
    "    if new_image.ndim == 2:  # モノクロ\n",
    "        pass\n",
    "    elif new_image.shape[2] == 3:  # カラー\n",
    "        new_image = cv2.cvtColor(new_image, cv2.COLOR_RGB2BGR)\n",
    "#             continue\n",
    "    elif new_image.shape[2] == 4:  # 透過\n",
    "        new_image = cv2.cvtColor(new_image, cv2.COLOR_RGBA2BGRA)\n",
    "    return new_image"
   ]
  },
  {
   "cell_type": "code",
   "execution_count": 122,
   "metadata": {},
   "outputs": [],
   "source": [
    "caption_ = pil2cv(caption)"
   ]
  },
  {
   "cell_type": "code",
   "execution_count": 124,
   "metadata": {},
   "outputs": [
    {
     "data": {
      "text/plain": [
       "True"
      ]
     },
     "execution_count": 124,
     "metadata": {},
     "output_type": "execute_result"
    }
   ],
   "source": [
    "cv2.imwrite('../caption.png', caption_)"
   ]
  },
  {
   "cell_type": "code",
   "execution_count": null,
   "metadata": {},
   "outputs": [],
   "source": []
  }
 ],
 "metadata": {
  "kernelspec": {
   "display_name": "Python 3",
   "language": "python",
   "name": "python3"
  },
  "language_info": {
   "codemirror_mode": {
    "name": "ipython",
    "version": 3
   },
   "file_extension": ".py",
   "mimetype": "text/x-python",
   "name": "python",
   "nbconvert_exporter": "python",
   "pygments_lexer": "ipython3",
   "version": "3.6.12"
  }
 },
 "nbformat": 4,
 "nbformat_minor": 4
}
