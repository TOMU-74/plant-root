{
 "cells": [
  {
   "cell_type": "code",
   "execution_count": 1,
   "metadata": {},
   "outputs": [
    {
     "name": "stdout",
     "output_type": "stream",
     "text": [
      "/Users/nakatani/labo/2021_root/2021_Dec/refine_diff/pynb\r\n"
     ]
    }
   ],
   "source": [
    "!pwd"
   ]
  },
  {
   "cell_type": "code",
   "execution_count": 2,
   "metadata": {},
   "outputs": [],
   "source": [
    "import os\n",
    "import cv2\n",
    "import re\n",
    "import numpy as np"
   ]
  },
  {
   "cell_type": "code",
   "execution_count": 5,
   "metadata": {},
   "outputs": [],
   "source": [
    "IMG = '../../noise-removed'\n",
    "DIFF = '../diff'"
   ]
  },
  {
   "cell_type": "code",
   "execution_count": 6,
   "metadata": {},
   "outputs": [],
   "source": [
    "fnames = sorted(os.listdir(os.path.join(IMG)))"
   ]
  },
  {
   "cell_type": "markdown",
   "metadata": {},
   "source": [
    "## diff取り出しの実験"
   ]
  },
  {
   "cell_type": "markdown",
   "metadata": {},
   "source": [
    "boldじゃやないpile-upとの差分"
   ]
  },
  {
   "cell_type": "code",
   "execution_count": 10,
   "metadata": {
    "scrolled": false
   },
   "outputs": [],
   "source": [
    "prev_root = ''\n",
    "kernel = np.ones((5,5),np.uint8)\n",
    "for fname in fnames:\n",
    "    root = re.findall('(.+)_', fname)[0]\n",
    "    img = cv2.imread(os.path.join(IMG, fname))\n",
    "    if prev_root != root:\n",
    "        base_img = img\n",
    "        prev_root = root\n",
    "        continue\n",
    "    dilate = cv2.dilate(base_img,kernel,iterations = 1)\n",
    "    bold_not = cv2.bitwise_not(dilate)[:,:,0].squeeze()\n",
    "    diff = cv2.bitwise_and(img, img, mask = bold_not)\n",
    "    base_img = base_img + diff\n",
    "    cv2.imwrite(os.path.join('../diff_pile-up_itr1', fname), diff)\n",
    "    \n",
    "#     prev_img = img\n",
    "    prev_root = root"
   ]
  },
  {
   "cell_type": "markdown",
   "metadata": {},
   "source": [
    "ちょいずれによる差分は画素値小さいのでthereshで除去を試みる，thresh前とどれくらい違うのかを確認するためbitwiseORで色を変えて重ねる"
   ]
  },
  {
   "cell_type": "code",
   "execution_count": 18,
   "metadata": {
    "scrolled": false
   },
   "outputs": [],
   "source": [
    "prev_root = ''\n",
    "kernel = np.ones((5,5),np.uint8)\n",
    "for fname in fnames:\n",
    "    root = re.findall('(.+)_', fname)[0]\n",
    "    img = cv2.imread(os.path.join(IMG, fname))\n",
    "    if prev_root != root:\n",
    "        base_img = img\n",
    "        prev_root = root\n",
    "        continue\n",
    "    dilate = cv2.dilate(base_img,kernel,iterations = 1)\n",
    "    bold_not = cv2.bitwise_not(dilate)[:,:,0].squeeze()\n",
    "    diff = cv2.bitwise_and(img, img, mask = bold_not)\n",
    "    base_img = base_img + diff\n",
    "    ret,thresh = cv2.threshold(diff,100,255,0)\n",
    "    cv2.imwrite(os.path.join('../diff_pile-up_itr1_thresh', fname), thresh)\n",
    "    ret, diff_ = cv2.threshold(diff,1,255,0)\n",
    "    diff_[:,:,:2] = 0\n",
    "    dst = cv2.bitwise_or(thresh, diff_)\n",
    "    cv2.imwrite(os.path.join('../check_thresh/', fname), dst)\n",
    "#     prev_img = img\n",
    "    prev_root = root"
   ]
  },
  {
   "cell_type": "code",
   "execution_count": 19,
   "metadata": {},
   "outputs": [],
   "source": [
    "DST = '../diff_er2dl'"
   ]
  },
  {
   "cell_type": "code",
   "execution_count": null,
   "metadata": {},
   "outputs": [],
   "source": [
    "kernel = np.ones((3,3),np.uint8)\n",
    "for fname in fnames:\n",
    "    thre = cv2.imread(os.path.join(THRE, fname))\n",
    "    erosion = cv2.erode(thre,kernel,iterations = 1)\n",
    "    erosion_ = cv2.dilate(erosion,kernel,iterations = 1)\n",
    "#     cv2.imwrite(os.path.join(DST, fname), erosion_)"
   ]
  },
  {
   "cell_type": "code",
   "execution_count": 20,
   "metadata": {},
   "outputs": [],
   "source": [
    "import re"
   ]
  },
  {
   "cell_type": "code",
   "execution_count": 31,
   "metadata": {},
   "outputs": [],
   "source": [
    "for fname in fnames:\n",
    "    date = re.findall('_(\\d+)', fname)[0]\n",
    "    if date == '211122':\n",
    "        base = cv2.imread('../../noise-removed/' + fname)\n",
    "    else:\n",
    "        diff = cv2.imread(os.path.join(DST, fname))\n",
    "#         diff_red = diff + 0\n",
    "#         diff_red[:,:,:2] = 1\n",
    "#         base_or_diff = cv2.bitwise_or(base, diff_red)\n",
    "#         base_or_diff_ = cv2.dilate(base_or_diff, kernel)\n",
    "#         base_or_diff_ = cv2.erode(base_or_diff_, kernel)\n",
    "#         cv2.imwrite('../check_connect/' + fname, base_or_diff_)\n",
    "        base_or_diff = cv2.bitwise_or(base, diff)\n",
    "        base_or_diff_ = cv2.dilate(base_or_diff, kernel)\n",
    "        base_or_diff_ = cv2.erode(base_or_diff_, kernel)\n",
    "        base_not = cv2.bitwise_not(base)\n",
    "        diff_ = cv2.bitwise_and(base_or_diff_, base_not)\n",
    "        base = base_or_diff_\n",
    "        cv2.imwrite('../diff_connect/' + fname, diff_)\n",
    "#         base = base\n",
    "#         base_or_diff_ = cv2.erode(base_or_diff_, kernel)"
   ]
  },
  {
   "cell_type": "code",
   "execution_count": null,
   "metadata": {},
   "outputs": [],
   "source": []
  }
 ],
 "metadata": {
  "kernelspec": {
   "display_name": "Python 3",
   "language": "python",
   "name": "python3"
  },
  "language_info": {
   "codemirror_mode": {
    "name": "ipython",
    "version": 3
   },
   "file_extension": ".py",
   "mimetype": "text/x-python",
   "name": "python",
   "nbconvert_exporter": "python",
   "pygments_lexer": "ipython3",
   "version": "3.6.12"
  }
 },
 "nbformat": 4,
 "nbformat_minor": 4
}
