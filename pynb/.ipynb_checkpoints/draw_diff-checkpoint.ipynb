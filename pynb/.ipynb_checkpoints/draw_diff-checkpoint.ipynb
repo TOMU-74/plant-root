{
 "cells": [
  {
   "cell_type": "markdown",
   "metadata": {},
   "source": [
    "## 差分の描画"
   ]
  },
  {
   "cell_type": "code",
   "execution_count": 1,
   "metadata": {},
   "outputs": [],
   "source": [
    "import os\n",
    "import cv2\n",
    "import re"
   ]
  },
  {
   "cell_type": "code",
   "execution_count": 3,
   "metadata": {},
   "outputs": [],
   "source": [
    "fnames = sorted(os.listdir('../../seed-pack2_resized'))"
   ]
  },
  {
   "cell_type": "code",
   "execution_count": 4,
   "metadata": {},
   "outputs": [],
   "source": [
    "date_list = []\n",
    "root_list = []\n",
    "for fname in fnames:\n",
    "    date = re.findall('_(\\d+).', fname)[0]\n",
    "    root = re.findall('(.+)_', fname)[0]\n",
    "    if date not in date_list:\n",
    "        date_list.append(date)\n",
    "    if root not in root_list:\n",
    "        root_list.append(root)"
   ]
  },
  {
   "cell_type": "code",
   "execution_count": 5,
   "metadata": {},
   "outputs": [
    {
     "data": {
      "text/plain": [
       "{'211122': [255, 255, 255],\n",
       " '211124': [255, 47, 0],\n",
       " '211126': [182, 255, 55],\n",
       " '211127': [0, 252, 202],\n",
       " '211129': [128, 0, 128]}"
      ]
     },
     "execution_count": 5,
     "metadata": {},
     "output_type": "execute_result"
    }
   ],
   "source": [
    "import numpy as np\n",
    "import matplotlib as mpl\n",
    "import matplotlib.pyplot as plt\n",
    "from matplotlib import cm\n",
    "from colorspacious import cspace_converter\n",
    "from collections import OrderedDict\n",
    "\n",
    "cmaps = OrderedDict()\n",
    "\n",
    "cmaps['Qualitative'] = ['Pastel1', 'Pastel2', 'Paired', 'Accent',\n",
    "                        'Dark2', 'Set1', 'Set2', 'Set3',\n",
    "                        'tab10', 'tab20', 'tab20b', 'tab20c']\n",
    "\n",
    "cmap=plt.get_cmap('gist_ncar')\n",
    "\n",
    "color_list = []\n",
    "for i in range(4):\n",
    "    color_list.append([int(c*255) for c in cmap((3-i) * 60)[:3]])\n",
    "\n",
    "color_list = [[255, 255, 255]] + color_list\n",
    "\n",
    "color_list[-1] = [128, 0, 128]\n",
    "color_list\n",
    "\n",
    "color_dic= dict([(date, color) for date, color in zip(date_list, color_list)])\n",
    "\n",
    "color_dic"
   ]
  },
  {
   "cell_type": "code",
   "execution_count": 7,
   "metadata": {},
   "outputs": [
    {
     "data": {
      "text/plain": [
       "(420, 360, 3)"
      ]
     },
     "execution_count": 7,
     "metadata": {},
     "output_type": "execute_result"
    }
   ],
   "source": [
    "caption = cv2.imread('../../caption.png')\n",
    "caption.shape"
   ]
  },
  {
   "cell_type": "code",
   "execution_count": 8,
   "metadata": {},
   "outputs": [],
   "source": [
    "for fname in fnames:\n",
    "    date = re.findall('_(\\d+).', fname)[0]\n",
    "    root = re.findall('(.+)_', fname)[0]\n",
    "    color = color_dic[date]\n",
    "    if date == '211122':\n",
    "        img = cv2.imread('../../noise-removed/' + fname)\n",
    "        img_ = img + 0\n",
    "        img_[:420, -360:, :] = caption\n",
    "        cv2.imwrite('../draw_diff/' + fname, img_)\n",
    "    else:\n",
    "        diff = cv2.imread('../diff_er2dl/' + fname)\n",
    "        ret,thresh = cv2.threshold(diff,1,1,0)\n",
    "        thresh[:,:,0] *= color[2]\n",
    "        thresh[:,:,1] *= color[1]\n",
    "        thresh[:,:,2] *= color[0]\n",
    "        img_ = img_ + thresh\n",
    "        cv2.imwrite('../draw_diff/' + fname, img_)\n",
    "#     break"
   ]
  },
  {
   "cell_type": "code",
   "execution_count": 9,
   "metadata": {},
   "outputs": [],
   "source": [
    "for fname in fnames:\n",
    "    date = re.findall('_(\\d+).', fname)[0]\n",
    "    root = re.findall('(.+)_', fname)[0]\n",
    "    color = color_dic[date]\n",
    "    if date == '211122':\n",
    "        img = cv2.imread('../../noise-removed/' + fname)\n",
    "        img_ = img + 0\n",
    "        img_[:420, -360:, :] = caption\n",
    "        cv2.imwrite('../draw_diff_connect/' + fname, img_)\n",
    "    else:\n",
    "        diff = cv2.imread('../diff_connect/' + fname)\n",
    "        ret,thresh = cv2.threshold(diff,1,1,0)\n",
    "        thresh[:,:,0] *= color[2]\n",
    "        thresh[:,:,1] *= color[1]\n",
    "        thresh[:,:,2] *= color[0]\n",
    "        img_ = img_ + thresh\n",
    "        cv2.imwrite('../draw_diff_connect/' + fname, img_)\n",
    "#     break"
   ]
  },
  {
   "cell_type": "code",
   "execution_count": 14,
   "metadata": {},
   "outputs": [
    {
     "data": {
      "text/plain": [
       "True"
      ]
     },
     "execution_count": 14,
     "metadata": {},
     "output_type": "execute_result"
    }
   ],
   "source": []
  },
  {
   "cell_type": "markdown",
   "metadata": {},
   "source": [
    "## 二つのdraw_diffを比較"
   ]
  },
  {
   "cell_type": "code",
   "execution_count": 23,
   "metadata": {},
   "outputs": [],
   "source": [
    "for fname in fnames:\n",
    "    diff1 = cv2.imread('../../draw_diff/' + fname)\n",
    "    diff2 = cv2.imread('../draw_diff/' + fname)\n",
    "    diff1_ = diff1[:,900:2000,:]\n",
    "    diff2_ = diff2[:,900:2000,:]\n",
    "    dst = np.hstack((diff1_, diff2_))\n",
    "    cv2.imwrite('../check_draw_diff/' + fname, dst)\n",
    "#     break"
   ]
  },
  {
   "cell_type": "code",
   "execution_count": 14,
   "metadata": {},
   "outputs": [
    {
     "name": "stdout",
     "output_type": "stream",
     "text": [
      "(1824, 2736, 3)\n",
      "(y, x, c)\n"
     ]
    }
   ],
   "source": [
    "print(diff1.shape)\n",
    "print('(y, x, c)')"
   ]
  },
  {
   "cell_type": "code",
   "execution_count": null,
   "metadata": {},
   "outputs": [],
   "source": []
  }
 ],
 "metadata": {
  "kernelspec": {
   "display_name": "Python 3",
   "language": "python",
   "name": "python3"
  },
  "language_info": {
   "codemirror_mode": {
    "name": "ipython",
    "version": 3
   },
   "file_extension": ".py",
   "mimetype": "text/x-python",
   "name": "python",
   "nbconvert_exporter": "python",
   "pygments_lexer": "ipython3",
   "version": "3.6.12"
  }
 },
 "nbformat": 4,
 "nbformat_minor": 4
}
